{
 "cells": [
  {
   "cell_type": "markdown",
   "metadata": {},
   "source": [
    "# 1. IMPORT THE DATAFRAME"
   ]
  },
  {
   "cell_type": "code",
   "execution_count": 673,
   "metadata": {},
   "outputs": [],
   "source": [
    "import pandas as pd\n",
    "import os"
   ]
  },
  {
   "cell_type": "code",
   "execution_count": 674,
   "metadata": {},
   "outputs": [
    {
     "data": {
      "text/plain": [
       "'/Users/borispetelle/Documents/GitHub/dataV2-labs/project/Shark'"
      ]
     },
     "execution_count": 674,
     "metadata": {},
     "output_type": "execute_result"
    }
   ],
   "source": [
    "os.getcwd()"
   ]
  },
  {
   "cell_type": "code",
   "execution_count": 675,
   "metadata": {},
   "outputs": [],
   "source": [
    "os.chdir('/Users/borispetelle/Documents/GitHub/dataV2-labs/project/Shark')"
   ]
  },
  {
   "cell_type": "code",
   "execution_count": 676,
   "metadata": {},
   "outputs": [],
   "source": [
    "?pd.read_csv"
   ]
  },
  {
   "cell_type": "code",
   "execution_count": 677,
   "metadata": {},
   "outputs": [],
   "source": [
    "shark= pd.read_csv('/Users/borispetelle/Documents/GitHub/dataV2-labs/project/Shark/GSAF5.csv', encoding = 'iso-8859-1')"
   ]
  },
  {
   "cell_type": "markdown",
   "metadata": {},
   "source": [
    "# 2. INSPECT THE DATAFRAME "
   ]
  },
  {
   "cell_type": "code",
   "execution_count": 678,
   "metadata": {
    "scrolled": true
   },
   "outputs": [
    {
     "data": {
      "text/html": [
       "<div>\n",
       "<style scoped>\n",
       "    .dataframe tbody tr th:only-of-type {\n",
       "        vertical-align: middle;\n",
       "    }\n",
       "\n",
       "    .dataframe tbody tr th {\n",
       "        vertical-align: top;\n",
       "    }\n",
       "\n",
       "    .dataframe thead th {\n",
       "        text-align: right;\n",
       "    }\n",
       "</style>\n",
       "<table border=\"1\" class=\"dataframe\">\n",
       "  <thead>\n",
       "    <tr style=\"text-align: right;\">\n",
       "      <th></th>\n",
       "      <th>Case Number</th>\n",
       "      <th>Date</th>\n",
       "      <th>Year</th>\n",
       "      <th>Type</th>\n",
       "      <th>Country</th>\n",
       "      <th>Area</th>\n",
       "      <th>Location</th>\n",
       "      <th>Activity</th>\n",
       "      <th>Name</th>\n",
       "      <th>Sex</th>\n",
       "      <th>...</th>\n",
       "      <th>Species</th>\n",
       "      <th>Investigator or Source</th>\n",
       "      <th>pdf</th>\n",
       "      <th>href formula</th>\n",
       "      <th>href</th>\n",
       "      <th>Case Number.1</th>\n",
       "      <th>Case Number.2</th>\n",
       "      <th>original order</th>\n",
       "      <th>Unnamed: 22</th>\n",
       "      <th>Unnamed: 23</th>\n",
       "    </tr>\n",
       "  </thead>\n",
       "  <tbody>\n",
       "    <tr>\n",
       "      <td>0</td>\n",
       "      <td>2016.09.18.c</td>\n",
       "      <td>18-Sep-16</td>\n",
       "      <td>2016</td>\n",
       "      <td>Unprovoked</td>\n",
       "      <td>USA</td>\n",
       "      <td>Florida</td>\n",
       "      <td>New Smyrna Beach, Volusia County</td>\n",
       "      <td>Surfing</td>\n",
       "      <td>male</td>\n",
       "      <td>M</td>\n",
       "      <td>...</td>\n",
       "      <td>NaN</td>\n",
       "      <td>Orlando Sentinel, 9/19/2016</td>\n",
       "      <td>2016.09.18.c-NSB.pdf</td>\n",
       "      <td>http://sharkattackfile.net/spreadsheets/pdf_di...</td>\n",
       "      <td>http://sharkattackfile.net/spreadsheets/pdf_di...</td>\n",
       "      <td>2016.09.18.c</td>\n",
       "      <td>2016.09.18.c</td>\n",
       "      <td>5993</td>\n",
       "      <td>NaN</td>\n",
       "      <td>NaN</td>\n",
       "    </tr>\n",
       "    <tr>\n",
       "      <td>1</td>\n",
       "      <td>2016.09.18.b</td>\n",
       "      <td>18-Sep-16</td>\n",
       "      <td>2016</td>\n",
       "      <td>Unprovoked</td>\n",
       "      <td>USA</td>\n",
       "      <td>Florida</td>\n",
       "      <td>New Smyrna Beach, Volusia County</td>\n",
       "      <td>Surfing</td>\n",
       "      <td>Chucky Luciano</td>\n",
       "      <td>M</td>\n",
       "      <td>...</td>\n",
       "      <td>NaN</td>\n",
       "      <td>Orlando Sentinel, 9/19/2016</td>\n",
       "      <td>2016.09.18.b-Luciano.pdf</td>\n",
       "      <td>http://sharkattackfile.net/spreadsheets/pdf_di...</td>\n",
       "      <td>http://sharkattackfile.net/spreadsheets/pdf_di...</td>\n",
       "      <td>2016.09.18.b</td>\n",
       "      <td>2016.09.18.b</td>\n",
       "      <td>5992</td>\n",
       "      <td>NaN</td>\n",
       "      <td>NaN</td>\n",
       "    </tr>\n",
       "    <tr>\n",
       "      <td>2</td>\n",
       "      <td>2016.09.18.a</td>\n",
       "      <td>18-Sep-16</td>\n",
       "      <td>2016</td>\n",
       "      <td>Unprovoked</td>\n",
       "      <td>USA</td>\n",
       "      <td>Florida</td>\n",
       "      <td>New Smyrna Beach, Volusia County</td>\n",
       "      <td>Surfing</td>\n",
       "      <td>male</td>\n",
       "      <td>M</td>\n",
       "      <td>...</td>\n",
       "      <td>NaN</td>\n",
       "      <td>Orlando Sentinel, 9/19/2016</td>\n",
       "      <td>2016.09.18.a-NSB.pdf</td>\n",
       "      <td>http://sharkattackfile.net/spreadsheets/pdf_di...</td>\n",
       "      <td>http://sharkattackfile.net/spreadsheets/pdf_di...</td>\n",
       "      <td>2016.09.18.a</td>\n",
       "      <td>2016.09.18.a</td>\n",
       "      <td>5991</td>\n",
       "      <td>NaN</td>\n",
       "      <td>NaN</td>\n",
       "    </tr>\n",
       "    <tr>\n",
       "      <td>3</td>\n",
       "      <td>2016.09.17</td>\n",
       "      <td>17-Sep-16</td>\n",
       "      <td>2016</td>\n",
       "      <td>Unprovoked</td>\n",
       "      <td>AUSTRALIA</td>\n",
       "      <td>Victoria</td>\n",
       "      <td>Thirteenth Beach</td>\n",
       "      <td>Surfing</td>\n",
       "      <td>Rory Angiolella</td>\n",
       "      <td>M</td>\n",
       "      <td>...</td>\n",
       "      <td>NaN</td>\n",
       "      <td>The Age, 9/18/2016</td>\n",
       "      <td>2016.09.17-Angiolella.pdf</td>\n",
       "      <td>http://sharkattackfile.net/spreadsheets/pdf_di...</td>\n",
       "      <td>http://sharkattackfile.net/spreadsheets/pdf_di...</td>\n",
       "      <td>2016.09.17</td>\n",
       "      <td>2016.09.17</td>\n",
       "      <td>5990</td>\n",
       "      <td>NaN</td>\n",
       "      <td>NaN</td>\n",
       "    </tr>\n",
       "    <tr>\n",
       "      <td>4</td>\n",
       "      <td>2016.09.15</td>\n",
       "      <td>16-Sep-16</td>\n",
       "      <td>2016</td>\n",
       "      <td>Unprovoked</td>\n",
       "      <td>AUSTRALIA</td>\n",
       "      <td>Victoria</td>\n",
       "      <td>Bells Beach</td>\n",
       "      <td>Surfing</td>\n",
       "      <td>male</td>\n",
       "      <td>M</td>\n",
       "      <td>...</td>\n",
       "      <td>2 m shark</td>\n",
       "      <td>The Age, 9/16/2016</td>\n",
       "      <td>2016.09.16-BellsBeach.pdf</td>\n",
       "      <td>http://sharkattackfile.net/spreadsheets/pdf_di...</td>\n",
       "      <td>http://sharkattackfile.net/spreadsheets/pdf_di...</td>\n",
       "      <td>2016.09.16</td>\n",
       "      <td>2016.09.15</td>\n",
       "      <td>5989</td>\n",
       "      <td>NaN</td>\n",
       "      <td>NaN</td>\n",
       "    </tr>\n",
       "  </tbody>\n",
       "</table>\n",
       "<p>5 rows × 24 columns</p>\n",
       "</div>"
      ],
      "text/plain": [
       "    Case Number       Date  Year        Type    Country      Area  \\\n",
       "0  2016.09.18.c  18-Sep-16  2016  Unprovoked        USA   Florida   \n",
       "1  2016.09.18.b  18-Sep-16  2016  Unprovoked        USA   Florida   \n",
       "2  2016.09.18.a  18-Sep-16  2016  Unprovoked        USA   Florida   \n",
       "3    2016.09.17  17-Sep-16  2016  Unprovoked  AUSTRALIA  Victoria   \n",
       "4    2016.09.15  16-Sep-16  2016  Unprovoked  AUSTRALIA  Victoria   \n",
       "\n",
       "                           Location Activity             Name Sex   ...  \\\n",
       "0  New Smyrna Beach, Volusia County  Surfing             male    M  ...   \n",
       "1  New Smyrna Beach, Volusia County  Surfing   Chucky Luciano    M  ...   \n",
       "2  New Smyrna Beach, Volusia County  Surfing             male    M  ...   \n",
       "3                  Thirteenth Beach  Surfing  Rory Angiolella    M  ...   \n",
       "4                       Bells Beach  Surfing             male    M  ...   \n",
       "\n",
       "    Species        Investigator or Source                        pdf  \\\n",
       "0        NaN  Orlando Sentinel, 9/19/2016       2016.09.18.c-NSB.pdf   \n",
       "1        NaN  Orlando Sentinel, 9/19/2016   2016.09.18.b-Luciano.pdf   \n",
       "2        NaN  Orlando Sentinel, 9/19/2016       2016.09.18.a-NSB.pdf   \n",
       "3        NaN           The Age, 9/18/2016  2016.09.17-Angiolella.pdf   \n",
       "4  2 m shark           The Age, 9/16/2016  2016.09.16-BellsBeach.pdf   \n",
       "\n",
       "                                        href formula  \\\n",
       "0  http://sharkattackfile.net/spreadsheets/pdf_di...   \n",
       "1  http://sharkattackfile.net/spreadsheets/pdf_di...   \n",
       "2  http://sharkattackfile.net/spreadsheets/pdf_di...   \n",
       "3  http://sharkattackfile.net/spreadsheets/pdf_di...   \n",
       "4  http://sharkattackfile.net/spreadsheets/pdf_di...   \n",
       "\n",
       "                                                href Case Number.1  \\\n",
       "0  http://sharkattackfile.net/spreadsheets/pdf_di...  2016.09.18.c   \n",
       "1  http://sharkattackfile.net/spreadsheets/pdf_di...  2016.09.18.b   \n",
       "2  http://sharkattackfile.net/spreadsheets/pdf_di...  2016.09.18.a   \n",
       "3  http://sharkattackfile.net/spreadsheets/pdf_di...    2016.09.17   \n",
       "4  http://sharkattackfile.net/spreadsheets/pdf_di...    2016.09.16   \n",
       "\n",
       "  Case Number.2 original order Unnamed: 22 Unnamed: 23  \n",
       "0  2016.09.18.c           5993         NaN         NaN  \n",
       "1  2016.09.18.b           5992         NaN         NaN  \n",
       "2  2016.09.18.a           5991         NaN         NaN  \n",
       "3    2016.09.17           5990         NaN         NaN  \n",
       "4    2016.09.15           5989         NaN         NaN  \n",
       "\n",
       "[5 rows x 24 columns]"
      ]
     },
     "execution_count": 678,
     "metadata": {},
     "output_type": "execute_result"
    }
   ],
   "source": [
    "# What is it look like ?\n",
    "shark.head()"
   ]
  },
  {
   "cell_type": "code",
   "execution_count": 679,
   "metadata": {},
   "outputs": [
    {
     "data": {
      "text/plain": [
       "(5992, 24)"
      ]
     },
     "execution_count": 679,
     "metadata": {},
     "output_type": "execute_result"
    }
   ],
   "source": [
    "# How big is this dataframe ?\n",
    "shark.shape"
   ]
  },
  {
   "cell_type": "code",
   "execution_count": 680,
   "metadata": {
    "scrolled": true
   },
   "outputs": [
    {
     "name": "stdout",
     "output_type": "stream",
     "text": [
      "<class 'pandas.core.frame.DataFrame'>\n",
      "RangeIndex: 5992 entries, 0 to 5991\n",
      "Data columns (total 24 columns):\n",
      "Case Number               5992 non-null object\n",
      "Date                      5992 non-null object\n",
      "Year                      5992 non-null int64\n",
      "Type                      5992 non-null object\n",
      "Country                   5949 non-null object\n",
      "Area                      5590 non-null object\n",
      "Location                  5496 non-null object\n",
      "Activity                  5465 non-null object\n",
      "Name                      5792 non-null object\n",
      "Sex                       5425 non-null object\n",
      "Age                       3311 non-null object\n",
      "Injury                    5965 non-null object\n",
      "Fatal (Y/N)               5973 non-null object\n",
      "Time                      2779 non-null object\n",
      "Species                   3058 non-null object\n",
      "Investigator or Source    5977 non-null object\n",
      "pdf                       5992 non-null object\n",
      "href formula              5991 non-null object\n",
      "href                      5989 non-null object\n",
      "Case Number.1             5992 non-null object\n",
      "Case Number.2             5992 non-null object\n",
      "original order            5992 non-null int64\n",
      "Unnamed: 22               1 non-null object\n",
      "Unnamed: 23               2 non-null object\n",
      "dtypes: int64(2), object(22)\n",
      "memory usage: 1.1+ MB\n"
     ]
    }
   ],
   "source": [
    "# What I am looking at ? \n",
    "shark.info()"
   ]
  },
  {
   "cell_type": "code",
   "execution_count": 682,
   "metadata": {},
   "outputs": [
    {
     "data": {
      "text/plain": [
       "array(['Minor injury to thigh', 'Lacerations to hands',\n",
       "       'Lacerations to lower leg', ..., 'FATAL, leg stripped of flesh  ',\n",
       "       'FATAL, knocked overboard by tail of shark & carried off by shark ',\n",
       "       'FATAL. \"Shark bit him in half, carrying away the lower extremities\" '],\n",
       "      dtype=object)"
      ]
     },
     "execution_count": 682,
     "metadata": {},
     "output_type": "execute_result"
    }
   ],
   "source": [
    "# Inspect what there is in the columns of several columns\n",
    "shark['Injury'].unique()"
   ]
  },
  {
   "cell_type": "code",
   "execution_count": 683,
   "metadata": {},
   "outputs": [
    {
     "data": {
      "text/plain": [
       "Case Number                  0\n",
       "Date                         0\n",
       "Year                         0\n",
       "Type                         0\n",
       "Country                     43\n",
       "Area                       402\n",
       "Location                   496\n",
       "Activity                   527\n",
       "Name                       200\n",
       "Sex                        567\n",
       "Age                       2681\n",
       "Injury                      27\n",
       "Fatal (Y/N)                 19\n",
       "Time                      3213\n",
       "Species                   2934\n",
       "Investigator or Source      15\n",
       "pdf                          0\n",
       "href formula                 1\n",
       "href                         3\n",
       "Case Number.1                0\n",
       "Case Number.2                0\n",
       "original order               0\n",
       "Unnamed: 22               5991\n",
       "Unnamed: 23               5990\n",
       "dtype: int64"
      ]
     },
     "execution_count": 683,
     "metadata": {},
     "output_type": "execute_result"
    }
   ],
   "source": [
    "#Where are the columns with no values ? (to maybe ... avoid them)\n",
    "shark.isna().sum()"
   ]
  },
  {
   "cell_type": "markdown",
   "metadata": {},
   "source": [
    "# 3. DECIDE THE QUESTION & DEFININE A PERIMETER"
   ]
  },
  {
   "cell_type": "code",
   "execution_count": 684,
   "metadata": {},
   "outputs": [],
   "source": [
    "# Question : What are the riskiest countries for surfers ?"
   ]
  },
  {
   "cell_type": "code",
   "execution_count": 685,
   "metadata": {},
   "outputs": [],
   "source": [
    "# I decided to drop the columns that I don't need for my analysis in order to see better the table \n",
    "drop_cols =['Name', 'Sex ', 'Age', 'Time','Species ', 'Investigator or Source', 'href formula', 'href', 'Case Number.1', 'Case Number.2', 'original order', 'Unnamed: 22', 'Unnamed: 23']"
   ]
  },
  {
   "cell_type": "code",
   "execution_count": 686,
   "metadata": {},
   "outputs": [],
   "source": [
    "# I kept the main dataframe\n",
    "shark1 = shark.drop(drop_cols, axis=1)"
   ]
  },
  {
   "cell_type": "code",
   "execution_count": 687,
   "metadata": {
    "scrolled": true
   },
   "outputs": [
    {
     "data": {
      "text/html": [
       "<div>\n",
       "<style scoped>\n",
       "    .dataframe tbody tr th:only-of-type {\n",
       "        vertical-align: middle;\n",
       "    }\n",
       "\n",
       "    .dataframe tbody tr th {\n",
       "        vertical-align: top;\n",
       "    }\n",
       "\n",
       "    .dataframe thead th {\n",
       "        text-align: right;\n",
       "    }\n",
       "</style>\n",
       "<table border=\"1\" class=\"dataframe\">\n",
       "  <thead>\n",
       "    <tr style=\"text-align: right;\">\n",
       "      <th></th>\n",
       "      <th>Case Number</th>\n",
       "      <th>Date</th>\n",
       "      <th>Year</th>\n",
       "      <th>Type</th>\n",
       "      <th>Country</th>\n",
       "      <th>Area</th>\n",
       "      <th>Location</th>\n",
       "      <th>Activity</th>\n",
       "      <th>Injury</th>\n",
       "      <th>Fatal (Y/N)</th>\n",
       "      <th>pdf</th>\n",
       "    </tr>\n",
       "  </thead>\n",
       "  <tbody>\n",
       "    <tr>\n",
       "      <td>0</td>\n",
       "      <td>2016.09.18.c</td>\n",
       "      <td>18-Sep-16</td>\n",
       "      <td>2016</td>\n",
       "      <td>Unprovoked</td>\n",
       "      <td>USA</td>\n",
       "      <td>Florida</td>\n",
       "      <td>New Smyrna Beach, Volusia County</td>\n",
       "      <td>Surfing</td>\n",
       "      <td>Minor injury to thigh</td>\n",
       "      <td>N</td>\n",
       "      <td>2016.09.18.c-NSB.pdf</td>\n",
       "    </tr>\n",
       "    <tr>\n",
       "      <td>1</td>\n",
       "      <td>2016.09.18.b</td>\n",
       "      <td>18-Sep-16</td>\n",
       "      <td>2016</td>\n",
       "      <td>Unprovoked</td>\n",
       "      <td>USA</td>\n",
       "      <td>Florida</td>\n",
       "      <td>New Smyrna Beach, Volusia County</td>\n",
       "      <td>Surfing</td>\n",
       "      <td>Lacerations to hands</td>\n",
       "      <td>N</td>\n",
       "      <td>2016.09.18.b-Luciano.pdf</td>\n",
       "    </tr>\n",
       "    <tr>\n",
       "      <td>2</td>\n",
       "      <td>2016.09.18.a</td>\n",
       "      <td>18-Sep-16</td>\n",
       "      <td>2016</td>\n",
       "      <td>Unprovoked</td>\n",
       "      <td>USA</td>\n",
       "      <td>Florida</td>\n",
       "      <td>New Smyrna Beach, Volusia County</td>\n",
       "      <td>Surfing</td>\n",
       "      <td>Lacerations to lower leg</td>\n",
       "      <td>N</td>\n",
       "      <td>2016.09.18.a-NSB.pdf</td>\n",
       "    </tr>\n",
       "    <tr>\n",
       "      <td>3</td>\n",
       "      <td>2016.09.17</td>\n",
       "      <td>17-Sep-16</td>\n",
       "      <td>2016</td>\n",
       "      <td>Unprovoked</td>\n",
       "      <td>AUSTRALIA</td>\n",
       "      <td>Victoria</td>\n",
       "      <td>Thirteenth Beach</td>\n",
       "      <td>Surfing</td>\n",
       "      <td>Struck by fin on chest &amp; leg</td>\n",
       "      <td>N</td>\n",
       "      <td>2016.09.17-Angiolella.pdf</td>\n",
       "    </tr>\n",
       "    <tr>\n",
       "      <td>4</td>\n",
       "      <td>2016.09.15</td>\n",
       "      <td>16-Sep-16</td>\n",
       "      <td>2016</td>\n",
       "      <td>Unprovoked</td>\n",
       "      <td>AUSTRALIA</td>\n",
       "      <td>Victoria</td>\n",
       "      <td>Bells Beach</td>\n",
       "      <td>Surfing</td>\n",
       "      <td>No injury: Knocked off board by shark</td>\n",
       "      <td>N</td>\n",
       "      <td>2016.09.16-BellsBeach.pdf</td>\n",
       "    </tr>\n",
       "  </tbody>\n",
       "</table>\n",
       "</div>"
      ],
      "text/plain": [
       "    Case Number       Date  Year        Type    Country      Area  \\\n",
       "0  2016.09.18.c  18-Sep-16  2016  Unprovoked        USA   Florida   \n",
       "1  2016.09.18.b  18-Sep-16  2016  Unprovoked        USA   Florida   \n",
       "2  2016.09.18.a  18-Sep-16  2016  Unprovoked        USA   Florida   \n",
       "3    2016.09.17  17-Sep-16  2016  Unprovoked  AUSTRALIA  Victoria   \n",
       "4    2016.09.15  16-Sep-16  2016  Unprovoked  AUSTRALIA  Victoria   \n",
       "\n",
       "                           Location Activity  \\\n",
       "0  New Smyrna Beach, Volusia County  Surfing   \n",
       "1  New Smyrna Beach, Volusia County  Surfing   \n",
       "2  New Smyrna Beach, Volusia County  Surfing   \n",
       "3                  Thirteenth Beach  Surfing   \n",
       "4                       Bells Beach  Surfing   \n",
       "\n",
       "                                  Injury Fatal (Y/N)  \\\n",
       "0                  Minor injury to thigh           N   \n",
       "1                   Lacerations to hands           N   \n",
       "2               Lacerations to lower leg           N   \n",
       "3           Struck by fin on chest & leg           N   \n",
       "4  No injury: Knocked off board by shark           N   \n",
       "\n",
       "                         pdf  \n",
       "0       2016.09.18.c-NSB.pdf  \n",
       "1   2016.09.18.b-Luciano.pdf  \n",
       "2       2016.09.18.a-NSB.pdf  \n",
       "3  2016.09.17-Angiolella.pdf  \n",
       "4  2016.09.16-BellsBeach.pdf  "
      ]
     },
     "execution_count": 687,
     "metadata": {},
     "output_type": "execute_result"
    }
   ],
   "source": [
    "# Check\n",
    "shark1.head()"
   ]
  },
  {
   "cell_type": "markdown",
   "metadata": {},
   "source": [
    "# 4. SURFERS "
   ]
  },
  {
   "cell_type": "code",
   "execution_count": 688,
   "metadata": {},
   "outputs": [
    {
     "data": {
      "text/plain": [
       "[array(['Kite surfing', 'Body surfing', 'Windsurfing', 'Body surfing?',\n",
       "        'Bodysurfing', 'Body surfing or Boogie boarding', 'Kitesurfing',\n",
       "        'Walking in surf', 'Playing in the surf',\n",
       "        'Attempting to Kite surf from Egypt to Saudi Arabia',\n",
       "        'Paddle-surfing',\n",
       "        'Diving, but on the surface when bitten by the shark',\n",
       "        'Swimming, towing surfboard', 'Swimming or surfing',\n",
       "        'Walking out of the water after surfing', 'Fishing from surfski',\n",
       "        'Scurfing (surfboard being  towed behind a boat)',\n",
       "        'Tandem surfing', 'Sitting on surfboard',\n",
       "        'Walking, carrying surfboard & stepped on shark',\n",
       "        'Playing in the surf with his 2 dogs',\n",
       "        'Scallop diving (using surface-supplied air & a POD) ',\n",
       "        'Surfing, fell off surfboard & stepped on the shark.',\n",
       "        'Standing alongside surfboard', 'Standing / surfing',\n",
       "        'Swimming / Body surfing', 'Windsurfing, but sitting on his board',\n",
       "        'Spearfishing, but swimming at surface',\n",
       "        'Surfing, lying on surfboard', 'Wading to shore after surfing',\n",
       "        'Wading with surfboard', 'Body surfing or body boarding',\n",
       "        'Swimming / surfing', 'Body boarding or surfing',\n",
       "        'Walking / surfing', 'Body surfing, stood up on sandbar',\n",
       "        'Abalone diving using Hookah (resting on the surface)',\n",
       "        'Jumped off surfboard & landed on the shark', 'Wind surfing',\n",
       "        'Paddling on surfboard or body board', 'Paddling on surfboard',\n",
       "        'Lying on surfboard', 'Scuba diving (but on surface)',\n",
       "        'Free diving / spearfishing, from paddleboard & floating on the surface',\n",
       "        'Resting on surfboard', 'Lying on surfboard & paddling',\n",
       "        \"Fell off surfboard 20' from shore\",\n",
       "        'Windsurfing (urinating on his board)',\n",
       "        'Scuba diving, but swimming on surface', 'Lying atop surfboard',\n",
       "        'Scuba Diving for lobster (at surface)', 'Surfing or body surfing',\n",
       "        'Free diving , but surfacing',\n",
       "        'Spearfishing, but swimming on surface', 'Snorkeling on surface',\n",
       "        'Free diving for abalone (surfacing)',\n",
       "        \"Pushed surfmat of a young girl out of the shark's path, drawing shark's attention to his own board\",\n",
       "        'Surfing, fell off surfboard',\n",
       "        'Scuba diving for abalone (at surface)',\n",
       "        'Free diving (but on surface)',\n",
       "        'Freediving for abalone (at surface)',\n",
       "        'Free diving / spearfishing (resting on the surface)',\n",
       "        'Body surfing ', 'Spearfishing / Scuba diving (at surface)',\n",
       "        'Splashing in surf', 'Playing in surf with his child  (9)',\n",
       "        'Chasing shark out of bathing area while riding on a surf-ski',\n",
       "        'Diving for shells, saw shark circling wife near the surface, intercepted shark & it pulled him beneath the water',\n",
       "        'Free diving but treading water at surface',\n",
       "        'Skindiving for abalone (but at surface)',\n",
       "        'Trailing the field in a surf race',\n",
       "        \"Swimming at surface through school of feeding 2.5' to 5\\x92 sharks\",\n",
       "        'Spearfishing (but on surface)',\n",
       "        'Spearfishing / swimming on surface',\n",
       "        'Line fishing from Lakotoi, saw shoal of fish, dived overboard, had speared second fish & surfaced for air',\n",
       "        'Swimming, attacked at  surf carnival', 'Lying prone on surfboard',\n",
       "        'Body surfing & treading water', 'Swimming on surface',\n",
       "        'Fell off surf ski', 'Fishing, casting in the surf',\n",
       "        'Spearfishing (but treading water on the surface)',\n",
       "        'Paddling a surfboat', 'Body surfing / treading water',\n",
       "        'Fishing from surf ski',\n",
       "        'Flying Fortress bomber aircraft went down after daytime raid on Naples. He was swimming on the surface',\n",
       "        'Trochus diving, but floating on surface',\n",
       "        'Diving for trochus , but swimming on surface',\n",
       "        'Surfing (pneumatic surfboard)',\n",
       "        \"Diving for trochus  from dinghy when seized by shark 6' below the surface\",\n",
       "        'Bathing or body surfing ', 'Launching rowboat through the surf',\n",
       "        'Skin diving for trepang but at surface next to the boat',\n",
       "        'Washed off catamaran in the surf'], dtype=object)]"
      ]
     },
     "execution_count": 688,
     "metadata": {},
     "output_type": "execute_result"
    }
   ],
   "source": [
    "# Check all the surfers and see if they are really surfers with 'surf' \n",
    "[shark1.Activity[shark1.Activity.str.contains('surf')==True].unique()]"
   ]
  },
  {
   "cell_type": "code",
   "execution_count": 689,
   "metadata": {},
   "outputs": [
    {
     "data": {
      "text/plain": [
       "[array(['Diving, but on the surface when bitten by the shark',\n",
       "        'Scallop diving (using surface-supplied air & a POD) ',\n",
       "        'Spearfishing, but swimming at surface',\n",
       "        'Abalone diving using Hookah (resting on the surface)',\n",
       "        'Scuba diving (but on surface)',\n",
       "        'Free diving / spearfishing, from paddleboard & floating on the surface',\n",
       "        'Scuba diving, but swimming on surface',\n",
       "        'Scuba Diving for lobster (at surface)',\n",
       "        'Spearfishing, but swimming on surface', 'Snorkeling on surface',\n",
       "        'Scuba diving for abalone (at surface)',\n",
       "        'Free diving (but on surface)',\n",
       "        'Freediving for abalone (at surface)',\n",
       "        'Free diving / spearfishing (resting on the surface)',\n",
       "        'Spearfishing / Scuba diving (at surface)',\n",
       "        'Diving for shells, saw shark circling wife near the surface, intercepted shark & it pulled him beneath the water',\n",
       "        'Free diving but treading water at surface',\n",
       "        'Skindiving for abalone (but at surface)',\n",
       "        \"Swimming at surface through school of feeding 2.5' to 5\\x92 sharks\",\n",
       "        'Spearfishing (but on surface)',\n",
       "        'Spearfishing / swimming on surface',\n",
       "        'Line fishing from Lakotoi, saw shoal of fish, dived overboard, had speared second fish & surfaced for air',\n",
       "        'Swimming on surface',\n",
       "        'Spearfishing (but treading water on the surface)',\n",
       "        'Flying Fortress bomber aircraft went down after daytime raid on Naples. He was swimming on the surface',\n",
       "        'Trochus diving, but floating on surface',\n",
       "        'Diving for trochus , but swimming on surface',\n",
       "        \"Diving for trochus  from dinghy when seized by shark 6' below the surface\",\n",
       "        'Skin diving for trepang but at surface next to the boat'],\n",
       "       dtype=object)]"
      ]
     },
     "execution_count": 689,
     "metadata": {},
     "output_type": "execute_result"
    }
   ],
   "source": [
    "# I saw that with 'surfers' I take also people who say just 'surface' \n",
    "# I have to drop them : it is just people who were diving or swimming\n",
    "shark1.Activity[shark1.Activity.str.contains('surface')==True].unique()"
   ]
  },
  {
   "cell_type": "code",
   "execution_count": 690,
   "metadata": {},
   "outputs": [
    {
     "data": {
      "text/plain": [
       "(5992, 11)"
      ]
     },
     "execution_count": 690,
     "metadata": {},
     "output_type": "execute_result"
    }
   ],
   "source": [
    "# check before dropping\n",
    "shark1.shape"
   ]
  },
  {
   "cell_type": "code",
   "execution_count": 691,
   "metadata": {},
   "outputs": [],
   "source": [
    "# DROP THE SURFACE\n",
    "drop_surface=shark1[shark1.Activity.str.contains(\"surface\",na = False)].index"
   ]
  },
  {
   "cell_type": "code",
   "execution_count": 692,
   "metadata": {},
   "outputs": [],
   "source": [
    "# DROP THE SURFACE\n",
    "shark1 = shark1.drop(drop_surface, axis=0)"
   ]
  },
  {
   "cell_type": "code",
   "execution_count": 693,
   "metadata": {},
   "outputs": [
    {
     "data": {
      "text/plain": [
       "(5958, 11)"
      ]
     },
     "execution_count": 693,
     "metadata": {},
     "output_type": "execute_result"
    }
   ],
   "source": [
    "# check after dropping\n",
    "shark1.shape"
   ]
  },
  {
   "cell_type": "code",
   "execution_count": 694,
   "metadata": {
    "scrolled": true
   },
   "outputs": [
    {
     "data": {
      "text/html": [
       "<div>\n",
       "<style scoped>\n",
       "    .dataframe tbody tr th:only-of-type {\n",
       "        vertical-align: middle;\n",
       "    }\n",
       "\n",
       "    .dataframe tbody tr th {\n",
       "        vertical-align: top;\n",
       "    }\n",
       "\n",
       "    .dataframe thead th {\n",
       "        text-align: right;\n",
       "    }\n",
       "</style>\n",
       "<table border=\"1\" class=\"dataframe\">\n",
       "  <thead>\n",
       "    <tr style=\"text-align: right;\">\n",
       "      <th></th>\n",
       "      <th>Injury</th>\n",
       "      <th>pdf</th>\n",
       "    </tr>\n",
       "  </thead>\n",
       "  <tbody>\n",
       "    <tr>\n",
       "      <td>31</td>\n",
       "      <td>Minor injury to toes</td>\n",
       "      <td>2016.07.16.a-NSB.pdf</td>\n",
       "    </tr>\n",
       "    <tr>\n",
       "      <td>40</td>\n",
       "      <td>Minor injury</td>\n",
       "      <td>2016.06.27-Sullivans.pdf</td>\n",
       "    </tr>\n",
       "    <tr>\n",
       "      <td>73</td>\n",
       "      <td>\"Serious\"</td>\n",
       "      <td>2016.04.08-CapeVerde.pdf</td>\n",
       "    </tr>\n",
       "    <tr>\n",
       "      <td>78</td>\n",
       "      <td>Minor injury to arm. Possibly caused by smalll...</td>\n",
       "      <td>2016.03.28.b-Kawa.pdf</td>\n",
       "    </tr>\n",
       "    <tr>\n",
       "      <td>80</td>\n",
       "      <td>Minor injury to chest PROVOKED INCIDENT</td>\n",
       "      <td>2016.03.26-Kreckman.pdf</td>\n",
       "    </tr>\n",
       "    <tr>\n",
       "      <td>...</td>\n",
       "      <td>...</td>\n",
       "      <td>...</td>\n",
       "    </tr>\n",
       "    <tr>\n",
       "      <td>5959</td>\n",
       "      <td>FATAL</td>\n",
       "      <td>ND-0034-8-men-on-raft.pdf</td>\n",
       "    </tr>\n",
       "    <tr>\n",
       "      <td>5967</td>\n",
       "      <td>NaN</td>\n",
       "      <td>ND-0025-Sgt-SpectacleIsland.pdf</td>\n",
       "    </tr>\n",
       "    <tr>\n",
       "      <td>5972</td>\n",
       "      <td>FATAL</td>\n",
       "      <td>ND-0020-3JapaneseDivers.pdf</td>\n",
       "    </tr>\n",
       "    <tr>\n",
       "      <td>5982</td>\n",
       "      <td>Ankle bitten</td>\n",
       "      <td>ND-0010-Puna Hawaii.pdf</td>\n",
       "    </tr>\n",
       "    <tr>\n",
       "      <td>5990</td>\n",
       "      <td>FATAL</td>\n",
       "      <td>ND-0002-JulesPatterson.pdf</td>\n",
       "    </tr>\n",
       "  </tbody>\n",
       "</table>\n",
       "<p>527 rows × 2 columns</p>\n",
       "</div>"
      ],
      "text/plain": [
       "                                                 Injury  \\\n",
       "31                                 Minor injury to toes   \n",
       "40                                         Minor injury   \n",
       "73                                            \"Serious\"   \n",
       "78    Minor injury to arm. Possibly caused by smalll...   \n",
       "80              Minor injury to chest PROVOKED INCIDENT   \n",
       "...                                                 ...   \n",
       "5959                                              FATAL   \n",
       "5967                                                NaN   \n",
       "5972                                              FATAL   \n",
       "5982                                       Ankle bitten   \n",
       "5990                                              FATAL   \n",
       "\n",
       "                                  pdf  \n",
       "31               2016.07.16.a-NSB.pdf  \n",
       "40           2016.06.27-Sullivans.pdf  \n",
       "73           2016.04.08-CapeVerde.pdf  \n",
       "78              2016.03.28.b-Kawa.pdf  \n",
       "80            2016.03.26-Kreckman.pdf  \n",
       "...                               ...  \n",
       "5959        ND-0034-8-men-on-raft.pdf  \n",
       "5967  ND-0025-Sgt-SpectacleIsland.pdf  \n",
       "5972      ND-0020-3JapaneseDivers.pdf  \n",
       "5982          ND-0010-Puna Hawaii.pdf  \n",
       "5990       ND-0002-JulesPatterson.pdf  \n",
       "\n",
       "[527 rows x 2 columns]"
      ]
     },
     "execution_count": 694,
     "metadata": {},
     "output_type": "execute_result"
    }
   ],
   "source": [
    "# Before keeping all surf, I check if we don't have more surfers in the NaN Activity \n",
    "# Check the the injuries and pdf of some of them but too many ...\n",
    "# I saw that most of them are just swmimmers \n",
    "shark.loc[(shark.Activity.isnull()),['Injury','pdf']]"
   ]
  },
  {
   "cell_type": "code",
   "execution_count": 695,
   "metadata": {},
   "outputs": [],
   "source": [
    "# So I decide to drop all the NaN Activity rows and keep just all the rows that contains \"surf\"\n",
    "shark2=shark1.loc[shark.Activity.str.lower().str.contains('surf').fillna(False)]"
   ]
  },
  {
   "cell_type": "code",
   "execution_count": 696,
   "metadata": {},
   "outputs": [
    {
     "data": {
      "text/html": [
       "<div>\n",
       "<style scoped>\n",
       "    .dataframe tbody tr th:only-of-type {\n",
       "        vertical-align: middle;\n",
       "    }\n",
       "\n",
       "    .dataframe tbody tr th {\n",
       "        vertical-align: top;\n",
       "    }\n",
       "\n",
       "    .dataframe thead th {\n",
       "        text-align: right;\n",
       "    }\n",
       "</style>\n",
       "<table border=\"1\" class=\"dataframe\">\n",
       "  <thead>\n",
       "    <tr style=\"text-align: right;\">\n",
       "      <th></th>\n",
       "      <th>Case Number</th>\n",
       "      <th>Date</th>\n",
       "      <th>Year</th>\n",
       "      <th>Type</th>\n",
       "      <th>Country</th>\n",
       "      <th>Area</th>\n",
       "      <th>Location</th>\n",
       "      <th>Activity</th>\n",
       "      <th>Injury</th>\n",
       "      <th>Fatal (Y/N)</th>\n",
       "      <th>pdf</th>\n",
       "    </tr>\n",
       "  </thead>\n",
       "  <tbody>\n",
       "    <tr>\n",
       "      <td>631</td>\n",
       "      <td>2011.10.10</td>\n",
       "      <td>10-Oct-11</td>\n",
       "      <td>2011</td>\n",
       "      <td>Unprovoked</td>\n",
       "      <td>USA</td>\n",
       "      <td>Oregon</td>\n",
       "      <td>Seaside</td>\n",
       "      <td>Surfing</td>\n",
       "      <td>No injury</td>\n",
       "      <td>N</td>\n",
       "      <td>2011.10.10-Niblack.pdf</td>\n",
       "    </tr>\n",
       "    <tr>\n",
       "      <td>680</td>\n",
       "      <td>2011.06.29</td>\n",
       "      <td>29-Jun-11</td>\n",
       "      <td>2011</td>\n",
       "      <td>Unprovoked</td>\n",
       "      <td>BRAZIL</td>\n",
       "      <td>Pernambuco</td>\n",
       "      <td>Praia do Pina</td>\n",
       "      <td>Surfing</td>\n",
       "      <td>Lacerations to right thigh</td>\n",
       "      <td>N</td>\n",
       "      <td>2011.06.29-Brazil.pdf</td>\n",
       "    </tr>\n",
       "    <tr>\n",
       "      <td>1187</td>\n",
       "      <td>2007.01.05</td>\n",
       "      <td>01-Jan-07</td>\n",
       "      <td>2007</td>\n",
       "      <td>Unprovoked</td>\n",
       "      <td>USA</td>\n",
       "      <td>Hawaii</td>\n",
       "      <td>Majors Bay, Kaua'i</td>\n",
       "      <td>Surfing</td>\n",
       "      <td>No injury, shark removed piece of surfboard</td>\n",
       "      <td>N</td>\n",
       "      <td>2007.01.05-Reed.pdf</td>\n",
       "    </tr>\n",
       "    <tr>\n",
       "      <td>1850</td>\n",
       "      <td>2000.02.03</td>\n",
       "      <td>03-Feb-00</td>\n",
       "      <td>2000</td>\n",
       "      <td>Unprovoked</td>\n",
       "      <td>NEW ZEALAND</td>\n",
       "      <td>South Island</td>\n",
       "      <td>Oreti Beach (reported as the 4th person bitten...</td>\n",
       "      <td>Surfing</td>\n",
       "      <td>No injury, wetsuit punctured</td>\n",
       "      <td>N</td>\n",
       "      <td>2000.02.03-Petas.pdf</td>\n",
       "    </tr>\n",
       "    <tr>\n",
       "      <td>761</td>\n",
       "      <td>2010.09.27</td>\n",
       "      <td>27-Sep-10</td>\n",
       "      <td>2010</td>\n",
       "      <td>Unprovoked</td>\n",
       "      <td>USA</td>\n",
       "      <td>Oregon</td>\n",
       "      <td>Winchester Bay</td>\n",
       "      <td>Surfing</td>\n",
       "      <td>No injury, surfboard rammed</td>\n",
       "      <td>N</td>\n",
       "      <td>2010.09.27-Lowden-COLLIER.pdf</td>\n",
       "    </tr>\n",
       "  </tbody>\n",
       "</table>\n",
       "</div>"
      ],
      "text/plain": [
       "     Case Number       Date  Year        Type      Country          Area  \\\n",
       "631   2011.10.10  10-Oct-11  2011  Unprovoked          USA        Oregon   \n",
       "680   2011.06.29  29-Jun-11  2011  Unprovoked       BRAZIL    Pernambuco   \n",
       "1187  2007.01.05  01-Jan-07  2007  Unprovoked          USA        Hawaii   \n",
       "1850  2000.02.03  03-Feb-00  2000  Unprovoked  NEW ZEALAND  South Island   \n",
       "761   2010.09.27  27-Sep-10  2010  Unprovoked          USA        Oregon   \n",
       "\n",
       "                                               Location Activity  \\\n",
       "631                                             Seaside  Surfing   \n",
       "680                                       Praia do Pina  Surfing   \n",
       "1187                                 Majors Bay, Kaua'i  Surfing   \n",
       "1850  Oreti Beach (reported as the 4th person bitten...  Surfing   \n",
       "761                                      Winchester Bay  Surfing   \n",
       "\n",
       "                                           Injury Fatal (Y/N)  \\\n",
       "631                                     No injury           N   \n",
       "680                    Lacerations to right thigh           N   \n",
       "1187  No injury, shark removed piece of surfboard           N   \n",
       "1850                 No injury, wetsuit punctured           N   \n",
       "761                   No injury, surfboard rammed           N   \n",
       "\n",
       "                                pdf  \n",
       "631          2011.10.10-Niblack.pdf  \n",
       "680           2011.06.29-Brazil.pdf  \n",
       "1187            2007.01.05-Reed.pdf  \n",
       "1850           2000.02.03-Petas.pdf  \n",
       "761   2010.09.27-Lowden-COLLIER.pdf  "
      ]
     },
     "execution_count": 696,
     "metadata": {},
     "output_type": "execute_result"
    }
   ],
   "source": [
    "# Check if it works\n",
    "shark2.sample(5)"
   ]
  },
  {
   "cell_type": "markdown",
   "metadata": {},
   "source": [
    "# 4. SURFERS WHO DIED BECAUSE OF SHARKS"
   ]
  },
  {
   "cell_type": "code",
   "execution_count": 716,
   "metadata": {},
   "outputs": [
    {
     "data": {
      "text/plain": [
       "N          1071\n",
       "Y            72\n",
       "UNKNOWN       8\n",
       "Name: Fatal (Y/N), dtype: int64"
      ]
     },
     "execution_count": 716,
     "metadata": {},
     "output_type": "execute_result"
    }
   ],
   "source": [
    "# I want to have the 'N ' and 'N' the same\n",
    "shark2['Fatal (Y/N)'].value_counts()"
   ]
  },
  {
   "cell_type": "code",
   "execution_count": 717,
   "metadata": {},
   "outputs": [
    {
     "name": "stderr",
     "output_type": "stream",
     "text": [
      "/opt/anaconda3/lib/python3.7/site-packages/ipykernel_launcher.py:2: SettingWithCopyWarning: \n",
      "A value is trying to be set on a copy of a slice from a DataFrame.\n",
      "Try using .loc[row_indexer,col_indexer] = value instead\n",
      "\n",
      "See the caveats in the documentation: http://pandas.pydata.org/pandas-docs/stable/user_guide/indexing.html#returning-a-view-versus-a-copy\n",
      "  \n"
     ]
    }
   ],
   "source": [
    "# I want to have just Y or N for the column fatal\n",
    "shark2['Fatal (Y/N)'] = shark2['Fatal (Y/N)'].replace(' N','N')"
   ]
  },
  {
   "cell_type": "code",
   "execution_count": 718,
   "metadata": {},
   "outputs": [
    {
     "data": {
      "text/plain": [
       "N          1071\n",
       "Y            72\n",
       "UNKNOWN       8\n",
       "Name: Fatal (Y/N), dtype: int64"
      ]
     },
     "execution_count": 718,
     "metadata": {},
     "output_type": "execute_result"
    }
   ],
   "source": [
    "# check if it works\n",
    "shark2['Fatal (Y/N)'].value_counts()"
   ]
  },
  {
   "cell_type": "code",
   "execution_count": 719,
   "metadata": {},
   "outputs": [
    {
     "data": {
      "text/html": [
       "<div>\n",
       "<style scoped>\n",
       "    .dataframe tbody tr th:only-of-type {\n",
       "        vertical-align: middle;\n",
       "    }\n",
       "\n",
       "    .dataframe tbody tr th {\n",
       "        vertical-align: top;\n",
       "    }\n",
       "\n",
       "    .dataframe thead th {\n",
       "        text-align: right;\n",
       "    }\n",
       "</style>\n",
       "<table border=\"1\" class=\"dataframe\">\n",
       "  <thead>\n",
       "    <tr style=\"text-align: right;\">\n",
       "      <th></th>\n",
       "      <th>Case Number</th>\n",
       "      <th>Date</th>\n",
       "      <th>Year</th>\n",
       "      <th>Type</th>\n",
       "      <th>Country</th>\n",
       "      <th>Area</th>\n",
       "      <th>Location</th>\n",
       "      <th>Activity</th>\n",
       "      <th>Injury</th>\n",
       "      <th>Fatal (Y/N)</th>\n",
       "      <th>pdf</th>\n",
       "    </tr>\n",
       "  </thead>\n",
       "  <tbody>\n",
       "    <tr>\n",
       "      <td>2423</td>\n",
       "      <td>1990.00.00</td>\n",
       "      <td>1990</td>\n",
       "      <td>1990</td>\n",
       "      <td>Unprovoked</td>\n",
       "      <td>USA</td>\n",
       "      <td>Florida</td>\n",
       "      <td>Pensacola, Escambia County</td>\n",
       "      <td>Surfing</td>\n",
       "      <td>NaN</td>\n",
       "      <td>UNKNOWN</td>\n",
       "      <td>1990.00.00-NV-Pensacola.pdf</td>\n",
       "    </tr>\n",
       "    <tr>\n",
       "      <td>2436</td>\n",
       "      <td>1989.10.01</td>\n",
       "      <td>01-Oct-89</td>\n",
       "      <td>1989</td>\n",
       "      <td>Unprovoked</td>\n",
       "      <td>AUSTRALIA</td>\n",
       "      <td>Victoria</td>\n",
       "      <td>Surfers Point, Phillip Island</td>\n",
       "      <td>Surfing</td>\n",
       "      <td>No details</td>\n",
       "      <td>UNKNOWN</td>\n",
       "      <td>1989.10.01-Benson.pdf</td>\n",
       "    </tr>\n",
       "    <tr>\n",
       "      <td>2718</td>\n",
       "      <td>1983.04.19</td>\n",
       "      <td>19-Apr-83</td>\n",
       "      <td>1983</td>\n",
       "      <td>Unprovoked</td>\n",
       "      <td>USA</td>\n",
       "      <td>Florida</td>\n",
       "      <td>NaN</td>\n",
       "      <td>Surfing</td>\n",
       "      <td>No details</td>\n",
       "      <td>UNKNOWN</td>\n",
       "      <td>1983.04.19-NV-Schwarzwood.pdf</td>\n",
       "    </tr>\n",
       "    <tr>\n",
       "      <td>2781</td>\n",
       "      <td>1981.10.17</td>\n",
       "      <td>17-Oct-81</td>\n",
       "      <td>1981</td>\n",
       "      <td>Unprovoked</td>\n",
       "      <td>USA</td>\n",
       "      <td>Florida</td>\n",
       "      <td>Palm Beach, Palm Beach County</td>\n",
       "      <td>Surfing</td>\n",
       "      <td>No details</td>\n",
       "      <td>UNKNOWN</td>\n",
       "      <td>1981.10.17-NV-Conklin.pdf</td>\n",
       "    </tr>\n",
       "    <tr>\n",
       "      <td>2982</td>\n",
       "      <td>1975.10.04</td>\n",
       "      <td>04-Oct-75</td>\n",
       "      <td>1975</td>\n",
       "      <td>Invalid</td>\n",
       "      <td>USA</td>\n",
       "      <td>California</td>\n",
       "      <td>Seal Beach, Orange County</td>\n",
       "      <td>Surfing</td>\n",
       "      <td>NaN</td>\n",
       "      <td>UNKNOWN</td>\n",
       "      <td>1975.10.04-NV-California.pdf</td>\n",
       "    </tr>\n",
       "    <tr>\n",
       "      <td>3209</td>\n",
       "      <td>1969.05.22</td>\n",
       "      <td>22-May-69</td>\n",
       "      <td>1969</td>\n",
       "      <td>Unprovoked</td>\n",
       "      <td>DOMINICAN REPUBLIC</td>\n",
       "      <td>NaN</td>\n",
       "      <td>NaN</td>\n",
       "      <td>Surfing</td>\n",
       "      <td>NaN</td>\n",
       "      <td>UNKNOWN</td>\n",
       "      <td>1969.05.22-NV-Kuchn.pdf</td>\n",
       "    </tr>\n",
       "    <tr>\n",
       "      <td>3231</td>\n",
       "      <td>1968.09.22</td>\n",
       "      <td>22-Sep-68</td>\n",
       "      <td>1968</td>\n",
       "      <td>Invalid</td>\n",
       "      <td>USA</td>\n",
       "      <td>Florida</td>\n",
       "      <td>Riviera Beach, Palm Beach County</td>\n",
       "      <td>Surfing</td>\n",
       "      <td>NaN</td>\n",
       "      <td>UNKNOWN</td>\n",
       "      <td>1968.09.22-NV-RivieraBeach.pdf</td>\n",
       "    </tr>\n",
       "    <tr>\n",
       "      <td>3265</td>\n",
       "      <td>1968.00.00.a</td>\n",
       "      <td>1968</td>\n",
       "      <td>1968</td>\n",
       "      <td>Invalid</td>\n",
       "      <td>USA</td>\n",
       "      <td>Florida</td>\n",
       "      <td>Jensen Beach, Martin County</td>\n",
       "      <td>Surfing</td>\n",
       "      <td>NaN</td>\n",
       "      <td>UNKNOWN</td>\n",
       "      <td>1968.00.00.a-NV-JensenBeach.pdf</td>\n",
       "    </tr>\n",
       "  </tbody>\n",
       "</table>\n",
       "</div>"
      ],
      "text/plain": [
       "       Case Number       Date  Year        Type             Country  \\\n",
       "2423    1990.00.00       1990  1990  Unprovoked                 USA   \n",
       "2436    1989.10.01  01-Oct-89  1989  Unprovoked           AUSTRALIA   \n",
       "2718    1983.04.19  19-Apr-83  1983  Unprovoked                 USA   \n",
       "2781    1981.10.17  17-Oct-81  1981  Unprovoked                 USA   \n",
       "2982    1975.10.04  04-Oct-75  1975     Invalid                 USA   \n",
       "3209    1969.05.22  22-May-69  1969  Unprovoked  DOMINICAN REPUBLIC   \n",
       "3231    1968.09.22  22-Sep-68  1968     Invalid                 USA   \n",
       "3265  1968.00.00.a       1968  1968     Invalid                 USA   \n",
       "\n",
       "            Area                          Location Activity      Injury  \\\n",
       "2423     Florida        Pensacola, Escambia County  Surfing         NaN   \n",
       "2436    Victoria     Surfers Point, Phillip Island  Surfing  No details   \n",
       "2718     Florida                               NaN  Surfing  No details   \n",
       "2781     Florida     Palm Beach, Palm Beach County  Surfing  No details   \n",
       "2982  California         Seal Beach, Orange County  Surfing         NaN   \n",
       "3209         NaN                               NaN  Surfing         NaN   \n",
       "3231     Florida  Riviera Beach, Palm Beach County  Surfing         NaN   \n",
       "3265     Florida       Jensen Beach, Martin County  Surfing         NaN   \n",
       "\n",
       "     Fatal (Y/N)                              pdf  \n",
       "2423     UNKNOWN      1990.00.00-NV-Pensacola.pdf  \n",
       "2436     UNKNOWN            1989.10.01-Benson.pdf  \n",
       "2718     UNKNOWN    1983.04.19-NV-Schwarzwood.pdf  \n",
       "2781     UNKNOWN        1981.10.17-NV-Conklin.pdf  \n",
       "2982     UNKNOWN     1975.10.04-NV-California.pdf  \n",
       "3209     UNKNOWN          1969.05.22-NV-Kuchn.pdf  \n",
       "3231     UNKNOWN   1968.09.22-NV-RivieraBeach.pdf  \n",
       "3265     UNKNOWN  1968.00.00.a-NV-JensenBeach.pdf  "
      ]
     },
     "execution_count": 719,
     "metadata": {},
     "output_type": "execute_result"
    }
   ],
   "source": [
    "# I want to check the unknown value and see if I can feel them with the injury and pdf columns\n",
    "shark2[shark2['Fatal (Y/N)'] == 'UNKNOWN']"
   ]
  },
  {
   "cell_type": "code",
   "execution_count": 720,
   "metadata": {},
   "outputs": [],
   "source": [
    "#2042 > 'N' \n",
    "#2423 > no details\n",
    "#2436 > no details\n",
    "#2718 > no details\n",
    "#2781 > no details\n",
    "#2982 > no details\n",
    "#3209 > no details\n",
    "#3231 > no details\n",
    "#3265 > no details"
   ]
  },
  {
   "cell_type": "code",
   "execution_count": 721,
   "metadata": {},
   "outputs": [
    {
     "name": "stderr",
     "output_type": "stream",
     "text": [
      "/opt/anaconda3/lib/python3.7/site-packages/ipykernel_launcher.py:2: SettingWithCopyWarning: \n",
      "A value is trying to be set on a copy of a slice from a DataFrame\n",
      "\n",
      "See the caveats in the documentation: http://pandas.pydata.org/pandas-docs/stable/user_guide/indexing.html#returning-a-view-versus-a-copy\n",
      "  \n"
     ]
    }
   ],
   "source": [
    "# Change the value of the index 2042 from 'UNKNOWN' to 'N'\n",
    "shark2['Fatal (Y/N)'][2042] = 'N'"
   ]
  },
  {
   "cell_type": "code",
   "execution_count": 722,
   "metadata": {},
   "outputs": [
    {
     "data": {
      "text/plain": [
       "'N'"
      ]
     },
     "execution_count": 722,
     "metadata": {},
     "output_type": "execute_result"
    }
   ],
   "source": [
    "# Check ok\n",
    "shark2['Fatal (Y/N)'][2042]"
   ]
  },
  {
   "cell_type": "code",
   "execution_count": 723,
   "metadata": {},
   "outputs": [
    {
     "data": {
      "text/plain": [
       "Int64Index([2423, 2436, 2718, 2781, 2982, 3209, 3231, 3265], dtype='int64')"
      ]
     },
     "execution_count": 723,
     "metadata": {},
     "output_type": "execute_result"
    }
   ],
   "source": [
    "shark2[shark2['Fatal (Y/N)'] == 'UNKNOWN'].index"
   ]
  },
  {
   "cell_type": "code",
   "execution_count": 724,
   "metadata": {},
   "outputs": [
    {
     "data": {
      "text/plain": [
       "(1151, 11)"
      ]
     },
     "execution_count": 724,
     "metadata": {},
     "output_type": "execute_result"
    }
   ],
   "source": [
    "shark2.shape"
   ]
  },
  {
   "cell_type": "code",
   "execution_count": 725,
   "metadata": {},
   "outputs": [],
   "source": [
    "# Drop the other columns 'UNKNOWN'\n",
    "# Shark3 = shark without columns non needed + with only surfers + with only those who died and those who don't died\n",
    "drop_rows = [2423, 2436, 2718, 2781, 2982, 3209, 3231, 3265]\n",
    "shark3 = shark2.drop(drop_rows, axis=0)"
   ]
  },
  {
   "cell_type": "code",
   "execution_count": 726,
   "metadata": {},
   "outputs": [
    {
     "data": {
      "text/plain": [
       "(1143, 11)"
      ]
     },
     "execution_count": 726,
     "metadata": {},
     "output_type": "execute_result"
    }
   ],
   "source": [
    "#check if it worked : 8 drops ok\n",
    "shark3.shape"
   ]
  },
  {
   "cell_type": "code",
   "execution_count": 727,
   "metadata": {
    "scrolled": true
   },
   "outputs": [],
   "source": [
    "# I do dummies for dead surfers to be able to better analyse them after\n",
    "shark3['Dead_surfers'] = pd.get_dummies(shark3['Fatal (Y/N)'], drop_first=True)"
   ]
  },
  {
   "cell_type": "code",
   "execution_count": 728,
   "metadata": {
    "scrolled": true
   },
   "outputs": [
    {
     "data": {
      "text/html": [
       "<div>\n",
       "<style scoped>\n",
       "    .dataframe tbody tr th:only-of-type {\n",
       "        vertical-align: middle;\n",
       "    }\n",
       "\n",
       "    .dataframe tbody tr th {\n",
       "        vertical-align: top;\n",
       "    }\n",
       "\n",
       "    .dataframe thead th {\n",
       "        text-align: right;\n",
       "    }\n",
       "</style>\n",
       "<table border=\"1\" class=\"dataframe\">\n",
       "  <thead>\n",
       "    <tr style=\"text-align: right;\">\n",
       "      <th></th>\n",
       "      <th>Case Number</th>\n",
       "      <th>Date</th>\n",
       "      <th>Year</th>\n",
       "      <th>Type</th>\n",
       "      <th>Country</th>\n",
       "      <th>Area</th>\n",
       "      <th>Location</th>\n",
       "      <th>Activity</th>\n",
       "      <th>Injury</th>\n",
       "      <th>Fatal (Y/N)</th>\n",
       "      <th>pdf</th>\n",
       "      <th>Dead_surfers</th>\n",
       "    </tr>\n",
       "  </thead>\n",
       "  <tbody>\n",
       "    <tr>\n",
       "      <td>2543</td>\n",
       "      <td>1987.09.13</td>\n",
       "      <td>13-Sep-87</td>\n",
       "      <td>1987</td>\n",
       "      <td>Unprovoked</td>\n",
       "      <td>SOUTH AFRICA</td>\n",
       "      <td>Western Cape Province</td>\n",
       "      <td>Still Bay</td>\n",
       "      <td>Surfing</td>\n",
       "      <td>Torso lacerated</td>\n",
       "      <td>N</td>\n",
       "      <td>1987.09.13-McCallum.pdf</td>\n",
       "      <td>0</td>\n",
       "    </tr>\n",
       "    <tr>\n",
       "      <td>2456</td>\n",
       "      <td>1989.06.06</td>\n",
       "      <td>06-Jun-89</td>\n",
       "      <td>1989</td>\n",
       "      <td>Unprovoked</td>\n",
       "      <td>ITALY</td>\n",
       "      <td>Tuscany</td>\n",
       "      <td>Marinella, between Punta Blanca &amp; Marine del C...</td>\n",
       "      <td>Windsurfing (urinating on his board)</td>\n",
       "      <td>Upper right thigh bitten</td>\n",
       "      <td>N</td>\n",
       "      <td>1989.06.06-Bocedi.pdf</td>\n",
       "      <td>0</td>\n",
       "    </tr>\n",
       "    <tr>\n",
       "      <td>1337</td>\n",
       "      <td>2005.08.12</td>\n",
       "      <td>12-Aug-05</td>\n",
       "      <td>2005</td>\n",
       "      <td>Unprovoked</td>\n",
       "      <td>USA</td>\n",
       "      <td>North Carolina</td>\n",
       "      <td>Carolina Beach off Texas Avenue, New Hanover C...</td>\n",
       "      <td>Surfing</td>\n",
       "      <td>Laceration on right wrist &amp; crescent of punctu...</td>\n",
       "      <td>N</td>\n",
       "      <td>2005.08.12-ChrisO'Connor.pdf</td>\n",
       "      <td>0</td>\n",
       "    </tr>\n",
       "    <tr>\n",
       "      <td>2683</td>\n",
       "      <td>1984.00.00.a</td>\n",
       "      <td>1984</td>\n",
       "      <td>1984</td>\n",
       "      <td>Unprovoked</td>\n",
       "      <td>USA</td>\n",
       "      <td>Florida</td>\n",
       "      <td>Indiatlantic, Brevard County</td>\n",
       "      <td>Surfing</td>\n",
       "      <td>Right foot bitten</td>\n",
       "      <td>N</td>\n",
       "      <td>1984.00.00.a-Schwarze.pdf</td>\n",
       "      <td>0</td>\n",
       "    </tr>\n",
       "    <tr>\n",
       "      <td>768</td>\n",
       "      <td>2010.09.03.b</td>\n",
       "      <td>03-Sep-10</td>\n",
       "      <td>2010</td>\n",
       "      <td>Unprovoked</td>\n",
       "      <td>USA</td>\n",
       "      <td>Florida</td>\n",
       "      <td>New Smyrna Beach, Volusia County</td>\n",
       "      <td>Surfing</td>\n",
       "      <td>Lacerations to right  hand</td>\n",
       "      <td>N</td>\n",
       "      <td>2010.09.03.b-Coffman.pdf</td>\n",
       "      <td>0</td>\n",
       "    </tr>\n",
       "  </tbody>\n",
       "</table>\n",
       "</div>"
      ],
      "text/plain": [
       "       Case Number       Date  Year        Type       Country  \\\n",
       "2543    1987.09.13  13-Sep-87  1987  Unprovoked  SOUTH AFRICA   \n",
       "2456    1989.06.06  06-Jun-89  1989  Unprovoked         ITALY   \n",
       "1337    2005.08.12  12-Aug-05  2005  Unprovoked           USA   \n",
       "2683  1984.00.00.a       1984  1984  Unprovoked           USA   \n",
       "768   2010.09.03.b  03-Sep-10  2010  Unprovoked           USA   \n",
       "\n",
       "                       Area  \\\n",
       "2543  Western Cape Province   \n",
       "2456                Tuscany   \n",
       "1337         North Carolina   \n",
       "2683                Florida   \n",
       "768                 Florida   \n",
       "\n",
       "                                               Location  \\\n",
       "2543                                          Still Bay   \n",
       "2456  Marinella, between Punta Blanca & Marine del C...   \n",
       "1337  Carolina Beach off Texas Avenue, New Hanover C...   \n",
       "2683                       Indiatlantic, Brevard County   \n",
       "768                    New Smyrna Beach, Volusia County   \n",
       "\n",
       "                                  Activity  \\\n",
       "2543                               Surfing   \n",
       "2456  Windsurfing (urinating on his board)   \n",
       "1337                               Surfing   \n",
       "2683                               Surfing   \n",
       "768                                Surfing   \n",
       "\n",
       "                                                 Injury Fatal (Y/N)  \\\n",
       "2543                                    Torso lacerated           N   \n",
       "2456                           Upper right thigh bitten           N   \n",
       "1337  Laceration on right wrist & crescent of punctu...           N   \n",
       "2683                                  Right foot bitten           N   \n",
       "768                         Lacerations to right  hand            N   \n",
       "\n",
       "                               pdf  Dead_surfers  \n",
       "2543       1987.09.13-McCallum.pdf             0  \n",
       "2456         1989.06.06-Bocedi.pdf             0  \n",
       "1337  2005.08.12-ChrisO'Connor.pdf             0  \n",
       "2683     1984.00.00.a-Schwarze.pdf             0  \n",
       "768       2010.09.03.b-Coffman.pdf             0  "
      ]
     },
     "execution_count": 728,
     "metadata": {},
     "output_type": "execute_result"
    }
   ],
   "source": [
    "# yes it's look better now ! \n",
    "shark3.sample(5)"
   ]
  },
  {
   "cell_type": "code",
   "execution_count": 729,
   "metadata": {},
   "outputs": [
    {
     "data": {
      "text/plain": [
       "N    1071\n",
       "Y      72\n",
       "Name: Fatal (Y/N), dtype: int64"
      ]
     },
     "execution_count": 729,
     "metadata": {},
     "output_type": "execute_result"
    }
   ],
   "source": [
    "shark3['Fatal (Y/N)'].value_counts()"
   ]
  },
  {
   "cell_type": "code",
   "execution_count": 807,
   "metadata": {},
   "outputs": [
    {
     "data": {
      "text/plain": [
       "(1143, 12)"
      ]
     },
     "execution_count": 807,
     "metadata": {},
     "output_type": "execute_result"
    }
   ],
   "source": [
    "shark3.shape"
   ]
  },
  {
   "cell_type": "markdown",
   "metadata": {},
   "source": [
    "# 5. COUNTRIES"
   ]
  },
  {
   "cell_type": "code",
   "execution_count": 730,
   "metadata": {},
   "outputs": [
    {
     "data": {
      "text/plain": [
       "array(['USA', 'AUSTRALIA', 'NEW CALEDONIA', 'REUNION', 'JAPAN',\n",
       "       'INDONESIA', 'SOUTH AFRICA', 'BRAZIL', 'FRENCH POLYNESIA',\n",
       "       'NEW ZEALAND', 'ECUADOR', 'CANADA', 'SAUDI ARABIA', 'SCOTLAND',\n",
       "       'PAPUA NEW GUINEA', 'COSTA RICA', 'FIJI', 'BAHAMAS', 'MALTA',\n",
       "       'UNITED ARAB EMIRATES (UAE)', 'PANAMA', 'MEXICO', 'MEXICO ',\n",
       "       'VENEZUELA', 'URUGUAY', 'INDIA', 'OKINAWA', 'MOZAMBIQUE',\n",
       "       'EL SALVADOR', 'ANGOLA', 'ITALY', 'SPAIN', 'TUNISIA', 'GREECE',\n",
       "       'TRINIDAD & TOBAGO'], dtype=object)"
      ]
     },
     "execution_count": 730,
     "metadata": {},
     "output_type": "execute_result"
    }
   ],
   "source": [
    "# Now, let's clean the countriiiiiiies !\n",
    "shark3['Country'].unique()"
   ]
  },
  {
   "cell_type": "code",
   "execution_count": 731,
   "metadata": {},
   "outputs": [],
   "source": [
    "# Replace MEXICO\n",
    "shark3['Country'] = shark3['Country'].replace('MEXICO ','MEXICO')"
   ]
  },
  {
   "cell_type": "markdown",
   "metadata": {},
   "source": [
    "# 6. ANALYSIS"
   ]
  },
  {
   "cell_type": "code",
   "execution_count": 747,
   "metadata": {
    "scrolled": true
   },
   "outputs": [
    {
     "data": {
      "text/plain": [
       "AUSTRALIA        21\n",
       "USA              15\n",
       "SOUTH AFRICA     12\n",
       "REUNION           8\n",
       "MEXICO            4\n",
       "BRAZIL            4\n",
       "NEW CALEDONIA     2\n",
       "NEW ZEALAND       2\n",
       "COSTA RICA        1\n",
       "INDIA             1\n",
       "OKINAWA           1\n",
       "EL SALVADOR       1\n",
       "Name: Country, dtype: int64"
      ]
     },
     "execution_count": 747,
     "metadata": {},
     "output_type": "execute_result"
    }
   ],
   "source": [
    "shark3['Country'].loc[shark3['Dead_surfers']==1].value_counts()"
   ]
  },
  {
   "cell_type": "markdown",
   "metadata": {},
   "source": [
    "# 7. EXPORT"
   ]
  },
  {
   "cell_type": "code",
   "execution_count": 805,
   "metadata": {},
   "outputs": [],
   "source": [
    "shark3.to_excel('shark3.xlsx')"
   ]
  },
  {
   "cell_type": "markdown",
   "metadata": {},
   "source": [
    "# 8. HISTOGRAM"
   ]
  },
  {
   "cell_type": "code",
   "execution_count": 776,
   "metadata": {},
   "outputs": [],
   "source": [
    "import matplotlib.pyplot as plt"
   ]
  },
  {
   "cell_type": "code",
   "execution_count": 799,
   "metadata": {},
   "outputs": [
    {
     "data": {
      "text/plain": [
       "34"
      ]
     },
     "execution_count": 799,
     "metadata": {},
     "output_type": "execute_result"
    }
   ],
   "source": [
    "shark3.Country.nunique()"
   ]
  },
  {
   "cell_type": "code",
   "execution_count": 802,
   "metadata": {},
   "outputs": [],
   "source": [
    "list_countries = shark3.Country[shark3['Dead_surfers']==1].tolist()"
   ]
  },
  {
   "cell_type": "code",
   "execution_count": 806,
   "metadata": {},
   "outputs": [
    {
     "data": {
      "text/plain": [
       "(array([ 2., 21.,  8., 15., 12.,  1.,  4.,  4.,  2.,  1.,  1.,  1.]),\n",
       " array([ 0.        ,  0.91666667,  1.83333333,  2.75      ,  3.66666667,\n",
       "         4.58333333,  5.5       ,  6.41666667,  7.33333333,  8.25      ,\n",
       "         9.16666667, 10.08333333, 11.        ]),\n",
       " <a list of 12 Patch objects>)"
      ]
     },
     "execution_count": 806,
     "metadata": {},
     "output_type": "execute_result"
    },
    {
     "data": {
      "image/png": "[encoded data removed]",
      "text/plain": [
       "<Figure size 432x288 with 1 Axes>"
      ]
     },
     "metadata": {
      "needs_background": "light"
     },
     "output_type": "display_data"
    }
   ],
   "source": [
    "plt.xlabel('Countries')\n",
    "plt.ylabel('Number of dead surfers')\n",
    "plt.title('Number of dead surfers by countries')\n",
    "plt.hist(list_countries, bins = 12, color = 'blue')"
   ]
  },
  {
   "cell_type": "code",
   "execution_count": null,
   "metadata": {},
   "outputs": [],
   "source": []
  },
  {
   "cell_type": "code",
   "execution_count": null,
   "metadata": {},
   "outputs": [],
   "source": []
  },
  {
   "cell_type": "code",
   "execution_count": null,
   "metadata": {},
   "outputs": [],
   "source": []
  }
 ],
 "metadata": {
  "kernelspec": {
   "display_name": "Python 3",
   "language": "python",
   "name": "python3"
  },
  "language_info": {
   "codemirror_mode": {
    "name": "ipython",
    "version": 3
   },
   "file_extension": ".py",
   "mimetype": "text/x-python",
   "name": "python",
   "nbconvert_exporter": "python",
   "pygments_lexer": "ipython3",
   "version": "3.7.4"
  }
 },
 "nbformat": 4,
 "nbformat_minor": 2
}
